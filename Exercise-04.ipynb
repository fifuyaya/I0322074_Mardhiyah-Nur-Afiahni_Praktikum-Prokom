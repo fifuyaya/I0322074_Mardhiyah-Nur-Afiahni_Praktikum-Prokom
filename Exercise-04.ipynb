{
 "cells": [
  {
   "cell_type": "code",
   "execution_count": 1,
   "metadata": {},
   "outputs": [
    {
     "name": "stdout",
     "output_type": "stream",
     "text": [
      "Mardhiyah Nur Afiahni\n",
      "I0322074\n",
      "C\n"
     ]
    }
   ],
   "source": [
    "print(input(\"Nama: \"))\n",
    "print(input(\"NIM: \"))\n",
    "print(input(\"Kelas: \"))"
   ]
  },
  {
   "attachments": {},
   "cell_type": "markdown",
   "metadata": {},
   "source": [
    "## 1."
   ]
  },
  {
   "attachments": {},
   "cell_type": "markdown",
   "metadata": {},
   "source": [
    "Buatlah program yang menampilkan tarif pajak yang harus dibayarkan oleh user dengan input yaitu nama user dan pendapatan dari user.<br>\n",
    "Dengan ketentuan sebagai berikut:\n",
    "* Jika pendapatan kurang dari atau sama dengan 10 juta, maka tarif pajak adalah 2,5%\n",
    "* Jika pendapatan kurang dari atau sama dengan 20 juta, maka tarif pajak adalah 5%\n",
    "* Jika pendapatan kurang dari atau sama dengan 50 juta, maka tarif pajak adalah 10%.\n",
    "* Jika pendapatan lebih dari 50 juta, maka tarif pajak adalah 12,5%.\n",
    "> *note: Kerjakan soal ini dengan percabangan*"
   ]
  },
  {
   "cell_type": "code",
   "execution_count": 22,
   "metadata": {},
   "outputs": [
    {
     "name": "stdout",
     "output_type": "stream",
     "text": [
      "Total pendapatan: Rp 120000000\n",
      "=================================\n",
      "Tarif pajak yang harus dibayar oleh Fiya: Rp 15000000.0\n"
     ]
    }
   ],
   "source": [
    "# Kerjakan soal no 1 di sini\n",
    "nama = str(input(\"Masukkan nama: \"))\n",
    "pendapatan = int(input(\"Masukkan total pendapatan: \"))\n",
    "print(\"Total pendapatan: Rp\", pendapatan)\n",
    "print(\"=================================\")\n",
    "if pendapatan <= 10000000:\n",
    "    tarifPajak = pendapatan * (2.5/100)\n",
    "    print(f\"Tarif pajak yang harus dibayar oleh {nama}: Rp {tarifPajak}\")\n",
    "elif pendapatan <= 20000000:\n",
    "    tarifPajak = pendapatan * (5/100)\n",
    "    print(f\"Tarif pajak yang harus dibayar oleh {nama}: Rp {tarifPajak}\")\n",
    "elif pendapatan <= 50000000:\n",
    "    tarifPajak = pendapatan * (10/100)\n",
    "    print(f\"Tarif pajak yang harus dibayar oleh {nama}: Rp {tarifPajak}\")\n",
    "else:\n",
    "    tarifPajak = pendapatan * (12.5/100)\n",
    "    print(f\"Tarif pajak yang harus dibayar oleh {nama}: Rp {tarifPajak}\")"
   ]
  },
  {
   "attachments": {},
   "cell_type": "markdown",
   "metadata": {},
   "source": [
    "## 2."
   ]
  },
  {
   "attachments": {},
   "cell_type": "markdown",
   "metadata": {},
   "source": [
    "Buatlah program yang menampilkan akan melakukan validasi apakah mahasiswa tersebut berasal dari TI UNS berdasarkan NIM yang diinput oleh user:\n",
    "<br>Dengan ketentuan sebagai berikut:\n",
    "* NIM mahasiswa TI harus dimulai dengan \"I03\" dengan total panjang 8 karakter (I0320078 adalah contoh NIM mahasiswa TI UNS)\n",
    "* Program akan menampilkan pesan \"NIM mahasiswa TI UNS\" jika NIM yang dimasukkan sesuai dengan format yang dijelaskan di atas, dan akan menampilkan pesan \"NIM Anda tidak valid\" jika tidak sesuai.\n",
    "> *note: Kerjakan soal ini dengan percabangan*"
   ]
  },
  {
   "cell_type": "code",
   "execution_count": 2,
   "metadata": {},
   "outputs": [
    {
     "name": "stdout",
     "output_type": "stream",
     "text": [
      "NIM mahasiswa TI UNS\n"
     ]
    }
   ],
   "source": [
    "# Kerjakan soal no 2 di sini\n",
    "nim = str(input(\"Masukkan NIM: \"))\n",
    "total = len(str(nim))\n",
    "awal = nim[0:3]\n",
    "\n",
    "if awal == \"I03\" and total == 8:\n",
    "    print(\"NIM mahasiswa TI UNS\")\n",
    "else:\n",
    "    print(\"NIM Anda tidak valid\")"
   ]
  }
 ],
 "metadata": {
  "kernelspec": {
   "display_name": "Python 3",
   "language": "python",
   "name": "python3"
  },
  "language_info": {
   "codemirror_mode": {
    "name": "ipython",
    "version": 3
   },
   "file_extension": ".py",
   "mimetype": "text/x-python",
   "name": "python",
   "nbconvert_exporter": "python",
   "pygments_lexer": "ipython3",
   "version": "3.10.8"
  },
  "orig_nbformat": 4
 },
 "nbformat": 4,
 "nbformat_minor": 2
}
