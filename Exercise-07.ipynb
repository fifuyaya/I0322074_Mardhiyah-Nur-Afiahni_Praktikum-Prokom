{
 "cells": [
  {
   "cell_type": "code",
   "execution_count": 4,
   "metadata": {},
   "outputs": [
    {
     "data": {
      "text/plain": [
       "[[1, 9], [2, 2]]"
      ]
     },
     "execution_count": 4,
     "metadata": {},
     "output_type": "execute_result"
    }
   ],
   "source": [
    "#Buatlah sebuah fungsi untuk membuat matrix berdasarkan input dari user\n",
    "\n",
    "def create_matrix(baris,kolom):\n",
    "    matrix = []\n",
    "    #Tulis kode kamu disini\n",
    "    for i in range(baris):\n",
    "        matrix.append([])\n",
    "        for j in range(kolom):\n",
    "            elemen = int(input(f\"Masukkan elemen matriks[{i}][{j}]: \"))\n",
    "            matrix[i].append(elemen)\n",
    "   \n",
    "\n",
    "    return matrix\n",
    "\n",
    "\n",
    "baris = int(input('Masukkan Jumlah Baris:\\t'))\n",
    "kolom = int(input('Masukkan Jumlah Kolom:\\t'))\n",
    "\n",
    "create_matrix(baris,kolom)"
   ]
  },
  {
   "cell_type": "code",
   "execution_count": 16,
   "metadata": {},
   "outputs": [
    {
     "data": {
      "text/plain": [
       "[-12.0]"
      ]
     },
     "execution_count": 16,
     "metadata": {},
     "output_type": "execute_result"
    }
   ],
   "source": [
    "#Buatlah sebuah fungsi untuk mencari determinan matrix berdasarkan input matrix dari user\n",
    "import numpy as np\n",
    "def determinan():\n",
    "    det = []\n",
    "\n",
    "    #Tulis kode kamu disini\n",
    "    baris = int(input('Masukkan Jumlah Baris:\\t'))\n",
    "    kolom = int(input('Masukkan Jumlah Kolom:\\t'))\n",
    "    matrix = []\n",
    "    for i in range(baris):\n",
    "        matrix.append([])\n",
    "        for j in range(kolom):\n",
    "            elemen = int(input(f\"Masukkan elemen matriks[{i}][{j}]: \"))\n",
    "            matrix[i].append(elemen)\n",
    "    \n",
    "    deter = np.linalg.det(matrix)\n",
    "    det.append(deter)\n",
    "\n",
    "\n",
    "\n",
    "\n",
    "    return det\n",
    "\n",
    "determinan()"
   ]
  },
  {
   "cell_type": "code",
   "execution_count": 19,
   "metadata": {},
   "outputs": [
    {
     "name": "stdout",
     "output_type": "stream",
     "text": [
      "[[1, 9], [2, 2]]\n",
      "==========\n",
      "[[1, 2], [3, 4]]\n",
      "28 38 \n",
      "8 12 \n",
      "Hasil perkalian: [[28 38]\n",
      " [ 8 12]]\n"
     ]
    }
   ],
   "source": [
    "#Buatlah fungsi untuk mengakalikan dua buah matrix berdasarkan input user menggunakan nested loop\n",
    "import numpy as np\n",
    "def multiply_matrix(matrix1, matrix2):\n",
    "    result=[]\n",
    "\n",
    "    #Tulis kode kamu disini\n",
    "    for x in range(0, len(matrix1)):\n",
    "        row = []\n",
    "        for y in range(0, len(matrix2[0])):\n",
    "            total = 0\n",
    "            for z in range(0, len(matrix1)):\n",
    "                total = total + (matrix1[x][z] * matrix2[z][y])\n",
    "            row.append(total)\n",
    "        result.append(row)\n",
    "    \n",
    "    for x in range(0, len(result)):\n",
    "        for y in range(0, len(result[0])):\n",
    "            print (result[x][y], end=' ')\n",
    "        print ()\n",
    "\n",
    "    return result\n",
    "\n",
    "baris = int(input('Masukkan Jumlah Baris:\\t'))\n",
    "kolom = int(input('Masukkan Jumlah Kolom:\\t'))\n",
    "\n",
    "matrix1 = []\n",
    "for i in range(baris):\n",
    "        row = []\n",
    "        for j in range(kolom):\n",
    "            elemen = int(input(f'Masukkan elemen baris {i} kolom {j}: '))\n",
    "            row.append(elemen)\n",
    "        matrix1.append(row)\n",
    "print(matrix1)\n",
    "\n",
    "print(\"==========\")\n",
    "\n",
    "matrix2 = []\n",
    "for i in range(baris):\n",
    "        row = []\n",
    "        for j in range(kolom):\n",
    "            elemen = int(input(f'Masukkan elemen baris {i+1} kolom {j+1}: '))\n",
    "            row.append(elemen)\n",
    "        matrix2.append(row)\n",
    "print(matrix2)\n",
    "\n",
    "multiply_matrix(matrix1, matrix2)\n",
    "hasilKali = np.dot(matrix1, matrix2)\n",
    "print(f\"Hasil perkalian: {hasilKali}\")"
   ]
  }
 ],
 "metadata": {
  "kernelspec": {
   "display_name": "Python 3",
   "language": "python",
   "name": "python3"
  },
  "language_info": {
   "codemirror_mode": {
    "name": "ipython",
    "version": 3
   },
   "file_extension": ".py",
   "mimetype": "text/x-python",
   "name": "python",
   "nbconvert_exporter": "python",
   "pygments_lexer": "ipython3",
   "version": "3.10.8"
  },
  "orig_nbformat": 4
 },
 "nbformat": 4,
 "nbformat_minor": 2
}
