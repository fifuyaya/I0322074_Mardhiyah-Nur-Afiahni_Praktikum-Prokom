{
 "cells": [
  {
   "cell_type": "code",
   "execution_count": 1,
   "metadata": {},
   "outputs": [
    {
     "name": "stdout",
     "output_type": "stream",
     "text": [
      "Mardhiyah Nur Afiahni\n",
      "I0322074\n",
      "C\n"
     ]
    }
   ],
   "source": [
    "print(input(\"Nama: \"))\n",
    "print(input(\"NIM: \"))\n",
    "print(input(\"Kelas: \"))"
   ]
  },
  {
   "attachments": {},
   "cell_type": "markdown",
   "metadata": {},
   "source": [
    "## 1."
   ]
  },
  {
   "attachments": {},
   "cell_type": "markdown",
   "metadata": {},
   "source": [
    "buatlah program sederhana untuk:\n",
    "* **A** mencari massa jika diketahui nilai energi potensial, percepatan gravitasi, dan ketinggian benda! beserta rumus nya!\n",
    "* **B** mencari gaya apung jika diketahui massa jenis, tinggi, panjang, dan lebar benda serta percepatan gravitasi dan contohnya! beserta rumus nya!\n",
    "* **C** Tulis program Python untuk menghitung luas dari segi lima sama sisi!\n",
    "\n",
    "> *note* : rumus, contoh, dan nilai dari tiap variabel ditentukan oleh kalian sendiri dan gunakan satuan baku (SI) untuk menghitung nilai dari tiap variabel"
   ]
  },
  {
   "cell_type": "code",
   "execution_count": 4,
   "metadata": {},
   "outputs": [
    {
     "name": "stdout",
     "output_type": "stream",
     "text": [
      "Diketahui: \n",
      "Energi potensial (Ep)    = 120 J \n",
      "Percepatan gravitasi (g) = 10 m/s^2 \n",
      "Ketinggian benda (h)     = 4 m\n",
      "\n",
      "Ditanya: \n",
      "Berapakah massa benda?\n",
      "\n",
      "Dijawab: \n",
      "Rumus energi potensial: Ep = m*g*h \n",
      "Rumus massa benda: m = Ep/(g*h) \n",
      "massa benda = 120/(10*4) 3.0 kg\n",
      "Jadi, besar massa benda adalah 3.0 kg\n"
     ]
    }
   ],
   "source": [
    "# A program mencari massa benda\n",
    "# diketahui nilai ep, g, dan h\n",
    "Ep = 120\n",
    "g = 10\n",
    "h = 4\n",
    "\n",
    "print(\"Diketahui: \\nEnergi potensial (Ep)    = 120 J \\nPercepatan gravitasi (g) = 10 m/s^2 \\nKetinggian benda (h)     = 4 m\")\n",
    "print(\"\")\n",
    "\n",
    "# ditanya massa\n",
    "print(\"Ditanya: \\nBerapakah massa benda?\")\n",
    "print(\"\")\n",
    "\n",
    "# dijawab dengan rumus\n",
    "m = Ep/(g*h)\n",
    "print(\"Dijawab: \\nRumus energi potensial: Ep = m*g*h \\nRumus massa benda: m = Ep/(g*h) \\nmassa benda = 120/(10*4)\", m, \"kg\")\n",
    "print(\"Jadi, besar massa benda adalah\", m, \"kg\")"
   ]
  },
  {
   "cell_type": "code",
   "execution_count": 3,
   "metadata": {},
   "outputs": [
    {
     "name": "stdout",
     "output_type": "stream",
     "text": [
      "Diketahui: \n",
      "massa jenis minyak (rho) = 800 kg/m^3\n",
      "tinggi benda (t)         = 0.3 m\n",
      "panjang benda (p)        = 0.2 m\n",
      "lebar benda (l)          = 0.1 m\n",
      "percepatan gravitasi (g) = 10 m/s^2\n",
      "\n",
      "Ditanya: \n",
      "Berapakah besar gaya apung?\n",
      "\n",
      "Dijawab: \n",
      "FA = rho*g*V \n",
      "FA = rho*g*(p*l*t) \n",
      "FA = 800*10*(0.2*0.1*0.3) \n",
      "FA = 48.00000000000001 N \n",
      "Jadi, besar gaya apung adalah 48.00000000000001 Newton\n"
     ]
    }
   ],
   "source": [
    "# B program mencari gaya apung\n",
    "# diketahui massa jenis, tinggi, panjang, dan lebar benda, serta percepatan gravitasi\n",
    "rho = 800\n",
    "t = 0.3\n",
    "p = 0.2\n",
    "l = 0.1\n",
    "g = 10\n",
    "\n",
    "print(\"Diketahui: \")\n",
    "print(\"massa jenis minyak (rho) = 800 kg/m^3\") \n",
    "print(\"tinggi benda (t)         = 0.3 m\")\n",
    "print(\"panjang benda (p)        = 0.2 m\")\n",
    "print(\"lebar benda (l)          = 0.1 m\") \n",
    "print(\"percepatan gravitasi (g) = 10 m/s^2\")\n",
    "print(\"\")\n",
    "\n",
    "# ditanya gaya apung\n",
    "print(\"Ditanya: \\nBerapakah besar gaya apung?\")\n",
    "print(\"\")\n",
    "\n",
    "# dijawab dengan rumus gaya apung\n",
    "V = p * l * t\n",
    "FA = rho * g * V\n",
    "print(\"Dijawab: \\nFA = rho*g*V \\nFA = rho*g*(p*l*t) \\nFA = 800*10*(0.2*0.1*0.3) \\nFA =\", FA, \"N \\nJadi, besar gaya apung adalah\", FA, \"Newton\")"
   ]
  },
  {
   "cell_type": "code",
   "execution_count": 16,
   "metadata": {},
   "outputs": [
    {
     "name": "stdout",
     "output_type": "stream",
     "text": [
      "Nilai sisi segi lima sama dengan 4 m\n",
      "Luas segi lima = 1/4*akar(5+2*akar(5))*sisi^2\n",
      "Luas segi lima sama sisi sama dengan 27.52763840942347 m^2\n"
     ]
    }
   ],
   "source": [
    "# C program menghitung luas segi lima sama sisi\n",
    "import math\n",
    "sisi = int(input(\"Masukkan nilai sisi segi lima: \"))\n",
    "luas_segilima = 1/4*(math.sqrt(5*(5+2*(math.sqrt(5)))))*(sisi**2)\n",
    "\n",
    "print(f\"Nilai sisi segi lima sama dengan {sisi} m\")\n",
    "print(f\"Luas segi lima = 1/4*akar(5+2*akar(5))*sisi^2\")\n",
    "print(f\"Luas segi lima sama sisi sama dengan {luas_segilima} m^2\")"
   ]
  },
  {
   "attachments": {},
   "cell_type": "markdown",
   "metadata": {},
   "source": [
    "## 2."
   ]
  },
  {
   "attachments": {},
   "cell_type": "markdown",
   "metadata": {},
   "source": [
    "Taman bermain ANCOL memiliki berbagai wahana, salah satunya adalah bianglala. Harga tiket yang dijual berbeda tergantung dengan kategori nya. Harga tiket bagi orang dewasa atau yang berumur lebih dari 17 tahun adalah Rp 110.000 , harga tiket untuk anak-anak usia 6-16 tahun adalah Rp. 75.000 , sedangkan untuk usia dibawahnya tidak dikenakan biaya. Pada wahana bianglala sedang ada \"Promo RAMADHAN\" sebesar 20% bagi pembelian tiket lebih dari 2 pcs.\n",
    "\n",
    "Keluarga Anya Forger ingin menaiki wahana bianglala tersebut, Anya (usia 18 tahun) pergi bersama ayah dan ibunya beserta dua adiknya, Harry (usia 8 tahun) dan Taylor (usia 4 tahun). \n",
    "\n",
    "> Buatlah program sederhana untuk menghitung harga total dari pembelian tiket  oleh keluarga Anya dan harga tiket setelah mendapatkan diskon"
   ]
  },
  {
   "cell_type": "code",
   "execution_count": 21,
   "metadata": {},
   "outputs": [
    {
     "name": "stdout",
     "output_type": "stream",
     "text": [
      "Tiket untuk orang dewasa atau di atas 17 tahun = Rp 110000 \n",
      "Tiket untuk anak-anak usia 6-16 tahun = Rp 75000 \n",
      "Tiket untuk anak di bawah 6 tahun = gratis\n",
      "Jadi, harga total pembelian tiket adalah Rp 405000\n",
      "Jadi, harga total pembelian tiket setelah diskon adalah Rp 324000.0\n"
     ]
    }
   ],
   "source": [
    "# menghitung harga total dari pembelian tiket oleh keluarga Anya\n",
    "dewasa = 110000\n",
    "anak = 75000\n",
    "banata = 0\n",
    "\n",
    "print(\"Tiket untuk orang dewasa atau di atas 17 tahun = Rp 110000 \\nTiket untuk anak-anak usia 6-16 tahun = Rp 75000 \\nTiket untuk anak di bawah 6 tahun = gratis\")\n",
    "atas_17 = int(input(\"Masukkan jumlah orang dewasa di atas 17 tahun yang ikut: \"))\n",
    "bawah_17 = int(input(\"Masukkan jumlah anak-anak di usia 6-16 tahun yang ikut: \"))\n",
    "bawah_6 = int(input(\"Masukkan jumlah anak di bawah 6 tahun yang ikut: \"))\n",
    "\n",
    "harga_tiket = dewasa*atas_17 + anak*bawah_17 + banata*bawah_6\n",
    "\n",
    "print(f\"Jadi, harga total pembelian tiket adalah Rp {harga_tiket}\")\n",
    "\n",
    "# menghitung harga tiket setelah diskon 20% untuk pembelian tiket lebih dari 2\n",
    "total_tiket = atas_17 + bawah_17 + bawah_6\n",
    "hargaDiskon = harga_tiket - harga_tiket*20/100\n",
    "if total_tiket>2:\n",
    "    print(f\"Jadi, harga total pembelian tiket setelah diskon adalah Rp {hargaDiskon}\")\n"
   ]
  },
  {
   "attachments": {},
   "cell_type": "markdown",
   "metadata": {},
   "source": [
    "## 3. "
   ]
  },
  {
   "attachments": {},
   "cell_type": "markdown",
   "metadata": {},
   "source": [
    "diberikan list aslab sebagai berikut:\n",
    "```python\n",
    "list_aslab = [\n",
    "    {\"nama\": \"Berlian Safri Prakoso\", \"nim\": \"I0320017\", \"kontak\": \"0858XXXXXXXX\"},\n",
    "    {\"nama\": \"Halidya Siti Hanifah\", \"nim\": \"I0320044\", \"kontak\": \"0878XXXXXXXX\"},\n",
    "    {\"nama\": \"Nurki Putra Mahardika\", \"nim\": \"I0320076\", \"kontak\": \"0877XXXXXXXX\"},\n",
    "    {\"nama\": \"Aji Manarul Aziz\", \"nim\": \"I0320119\", \"kontak\": \"0812XXXXXXXX\"},\n",
    "    {\"nama\": \"Alica Ayu Fitriani\", \"nim\": \"I0320121\", \"kontak\": \"0896XXXXXXXX\"},\n",
    "    {\"nama\": \"Dendy Halim Kusuma\", \"nim\": \"I0320125\", \"kontak\": \"0822XXXXXXXX\"}\n",
    "]\n",
    "```\n",
    "* **A** Tuliskan kode untuk mengakses informasi tentang \"nama\" dari semua aslab mulai dari index 1 sampai 5\n",
    "* **B** Tambahkan informasi berikut pada data aslab dan tampilkan hasilnya:\n",
    "```python\n",
    "    surel = [\"berlian@student.uns.ac.id\",\n",
    "          \"halidya@student.uns.ac.id\",\n",
    "          \"nurki@student.uns.ac.id\",\n",
    "          \"manarul@student.uns.ac.id\",\n",
    "          \"alica@student.uns.ac.id\",\n",
    "          \"dendy@student.uns.ac.id\"]\n",
    "```\n",
    "* **C** Hapus nilai pada kunci \"kontak\" pada list aslab dan tampilkan hasilnya\n",
    "> *note: kalian hanya boleh menggunakan key-value pair yang disebutkan di dalam teks, tanpa menggunakan informasi tambahan yang diambil pada list yang ada*"
   ]
  },
  {
   "cell_type": "code",
   "execution_count": 17,
   "metadata": {},
   "outputs": [
    {
     "name": "stdout",
     "output_type": "stream",
     "text": [
      "Halidya Siti Hanifah\n",
      "Nurki Putra Mahardika\n",
      "Aji Manarul Aziz\n",
      "Alica Ayu Fitriani\n",
      "Dendy Halim Kusuma\n"
     ]
    }
   ],
   "source": [
    "# A informasi \"nama\" semua aslab dari index 1 sampai 5\n",
    "list_aslab = [\n",
    "    {\"nama\": \"Berlian Safri Prakoso\", \"nim\": \"I0320017\", \"kontak\": \"0858XXXXXXXX\"},\n",
    "    {\"nama\": \"Halidya Siti Hanifah\", \"nim\": \"I0320044\", \"kontak\": \"0878XXXXXXXX\"},\n",
    "    {\"nama\": \"Nurki Putra Mahardika\", \"nim\": \"I0320076\", \"kontak\": \"0877XXXXXXXX\"},\n",
    "    {\"nama\": \"Aji Manarul Aziz\", \"nim\": \"I0320119\", \"kontak\": \"0812XXXXXXXX\"},\n",
    "    {\"nama\": \"Alica Ayu Fitriani\", \"nim\": \"I0320121\", \"kontak\": \"0896XXXXXXXX\"},\n",
    "    {\"nama\": \"Dendy Halim Kusuma\", \"nim\": \"I0320125\", \"kontak\": \"0822XXXXXXXX\"}\n",
    "]\n",
    "for i in range(1, 6):\n",
    "    print(list_aslab[i][\"nama\"])\n"
   ]
  },
  {
   "cell_type": "code",
   "execution_count": 10,
   "metadata": {},
   "outputs": [
    {
     "name": "stdout",
     "output_type": "stream",
     "text": [
      "{'nama': 'Berlian Safri Prakoso', 'nim': 'I0320017', 'kontak': '0858XXXXXXXX', 'surel': 'berlian@student.uns.ac.id'}\n",
      "{'nama': 'Halidya Siti Hanifah', 'nim': 'I0320044', 'kontak': '0878XXXXXXXX', 'surel': 'halidya@student.uns.ac.id'}\n",
      "{'nama': 'Nurki Putra Mahardika', 'nim': 'I0320076', 'kontak': '0877XXXXXXXX', 'surel': 'nurki@student.uns.ac.id'}\n",
      "{'nama': 'Aji Manarul Aziz', 'nim': 'I0320119', 'kontak': '0812XXXXXXXX', 'surel': 'manarul@student.uns.ac.id'}\n",
      "{'nama': 'Alica Ayu Fitriani', 'nim': 'I0320121', 'kontak': '0896XXXXXXXX', 'surel': 'alica@student.uns.ac.id'}\n",
      "{'nama': 'Dendy Halim Kusuma', 'nim': 'I0320125', 'kontak': '0822XXXXXXXX', 'surel': 'dendy@student.uns.ac.id'}\n"
     ]
    }
   ],
   "source": [
    "# B menambahkan informasi pada data aslab dan hasilnya\n",
    "surel = [\"berlian@student.uns.ac.id\",\n",
    "          \"halidya@student.uns.ac.id\",\n",
    "          \"nurki@student.uns.ac.id\",\n",
    "          \"manarul@student.uns.ac.id\",\n",
    "          \"alica@student.uns.ac.id\",\n",
    "          \"dendy@student.uns.ac.id\"]\n",
    "\n",
    "for i in range(0,len(list_aslab)):\n",
    "    list_aslab[i][\"surel\"]=surel[i]\n",
    "\n",
    "for data_aslab in list_aslab:\n",
    "    print(data_aslab)"
   ]
  },
  {
   "cell_type": "code",
   "execution_count": 11,
   "metadata": {},
   "outputs": [
    {
     "name": "stdout",
     "output_type": "stream",
     "text": [
      "{'nama': 'Berlian Safri Prakoso', 'nim': 'I0320017', 'surel': 'berlian@student.uns.ac.id'}\n",
      "{'nama': 'Halidya Siti Hanifah', 'nim': 'I0320044', 'surel': 'halidya@student.uns.ac.id'}\n",
      "{'nama': 'Nurki Putra Mahardika', 'nim': 'I0320076', 'surel': 'nurki@student.uns.ac.id'}\n",
      "{'nama': 'Aji Manarul Aziz', 'nim': 'I0320119', 'surel': 'manarul@student.uns.ac.id'}\n",
      "{'nama': 'Alica Ayu Fitriani', 'nim': 'I0320121', 'surel': 'alica@student.uns.ac.id'}\n",
      "{'nama': 'Dendy Halim Kusuma', 'nim': 'I0320125', 'surel': 'dendy@student.uns.ac.id'}\n"
     ]
    }
   ],
   "source": [
    "# C menghapus kontak pada list aslab dan hasilnya\n",
    "for data_aslab in list_aslab:\n",
    "    del data_aslab[\"kontak\"]\n",
    "    print(data_aslab)"
   ]
  }
 ],
 "metadata": {
  "kernelspec": {
   "display_name": "Python 3",
   "language": "python",
   "name": "python3"
  },
  "language_info": {
   "codemirror_mode": {
    "name": "ipython",
    "version": 3
   },
   "file_extension": ".py",
   "mimetype": "text/x-python",
   "name": "python",
   "nbconvert_exporter": "python",
   "pygments_lexer": "ipython3",
   "version": "3.10.8"
  },
  "orig_nbformat": 4,
  "vscode": {
   "interpreter": {
    "hash": "5addf786bcd861d1ce5006f23111f8cbb206731e5b61b0a5632ba9e0252558a8"
   }
  }
 },
 "nbformat": 4,
 "nbformat_minor": 2
}
